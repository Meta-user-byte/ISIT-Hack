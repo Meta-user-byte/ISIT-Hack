{
  "nbformat": 4,
  "nbformat_minor": 0,
  "metadata": {
    "colab": {
      "provenance": [],
      "authorship_tag": "ABX9TyOgV+7UbHjX5hJYbpRdoBIu",
      "include_colab_link": true
    },
    "kernelspec": {
      "name": "python3",
      "display_name": "Python 3"
    },
    "language_info": {
      "name": "python"
    }
  },
  "cells": [
    {
      "cell_type": "markdown",
      "metadata": {
        "id": "view-in-github",
        "colab_type": "text"
      },
      "source": [
        "<a href=\"https://colab.research.google.com/github/Meta-user-byte/ISIT-Hack/blob/main/Signal_and_VQC_construction_with_and_without_noise.ipynb\" target=\"_parent\"><img src=\"https://colab.research.google.com/assets/colab-badge.svg\" alt=\"Open In Colab\"/></a>"
      ]
    },
    {
      "cell_type": "code",
      "execution_count": 24,
      "metadata": {
        "colab": {
          "base_uri": "https://localhost:8080/"
        },
        "id": "cOMd4O9Xta94",
        "outputId": "ab8a0571-cbc0-4b71-abdf-c7c856641bd4"
      },
      "outputs": [
        {
          "output_type": "stream",
          "name": "stdout",
          "text": [
            "Collecting qiskit==0.39.0\n",
            "  Downloading qiskit-0.39.0.tar.gz (13 kB)\n",
            "  Preparing metadata (setup.py) ... \u001b[?25l\u001b[?25hdone\n",
            "Collecting qiskit-terra==0.22.0 (from qiskit==0.39.0)\n",
            "  Downloading qiskit-terra-0.22.0.tar.gz (4.6 MB)\n",
            "\u001b[2K     \u001b[90m━━━━━━━━━━━━━━━━━━━━━━━━━━━━━━━━━━━━━━━━\u001b[0m \u001b[32m4.6/4.6 MB\u001b[0m \u001b[31m59.5 MB/s\u001b[0m eta \u001b[36m0:00:00\u001b[0m\n",
            "\u001b[?25h  Installing build dependencies ... \u001b[?25l\u001b[?25hdone\n",
            "  Getting requirements to build wheel ... \u001b[?25l\u001b[?25hdone\n",
            "  Preparing metadata (pyproject.toml) ... \u001b[?25l\u001b[?25hdone\n",
            "Collecting qiskit-aer==0.11.0 (from qiskit==0.39.0)\n",
            "  Using cached qiskit-aer-0.11.0.tar.gz (6.5 MB)\n",
            "  Installing build dependencies ... \u001b[?25l\u001b[?25hdone\n",
            "  \u001b[1;31merror\u001b[0m: \u001b[1msubprocess-exited-with-error\u001b[0m\n",
            "  \n",
            "  \u001b[31m×\u001b[0m \u001b[32mGetting requirements to build wheel\u001b[0m did not run successfully.\n",
            "  \u001b[31m│\u001b[0m exit code: \u001b[1;36m1\u001b[0m\n",
            "  \u001b[31m╰─>\u001b[0m See above for output.\n",
            "  \n",
            "  \u001b[1;35mnote\u001b[0m: This error originates from a subprocess, and is likely not a problem with pip.\n",
            "  Getting requirements to build wheel ... \u001b[?25l\u001b[?25herror\n",
            "\u001b[1;31merror\u001b[0m: \u001b[1msubprocess-exited-with-error\u001b[0m\n",
            "\n",
            "\u001b[31m×\u001b[0m \u001b[32mGetting requirements to build wheel\u001b[0m did not run successfully.\n",
            "\u001b[31m│\u001b[0m exit code: \u001b[1;36m1\u001b[0m\n",
            "\u001b[31m╰─>\u001b[0m See above for output.\n",
            "\n",
            "\u001b[1;35mnote\u001b[0m: This error originates from a subprocess, and is likely not a problem with pip.\n",
            "Requirement already satisfied: pip in /usr/local/lib/python3.11/dist-packages (25.1.1)\n",
            "Requirement already satisfied: wheel in /usr/local/lib/python3.11/dist-packages (0.45.1)\n",
            "Collecting qiskit-aer==0.10.4\n",
            "  Using cached qiskit-aer-0.10.4.tar.gz (6.5 MB)\n",
            "  Installing build dependencies ... \u001b[?25l\u001b[?25hdone\n",
            "  \u001b[1;31merror\u001b[0m: \u001b[1msubprocess-exited-with-error\u001b[0m\n",
            "  \n",
            "  \u001b[31m×\u001b[0m \u001b[32mGetting requirements to build wheel\u001b[0m did not run successfully.\n",
            "  \u001b[31m│\u001b[0m exit code: \u001b[1;36m1\u001b[0m\n",
            "  \u001b[31m╰─>\u001b[0m See above for output.\n",
            "  \n",
            "  \u001b[1;35mnote\u001b[0m: This error originates from a subprocess, and is likely not a problem with pip.\n",
            "  Getting requirements to build wheel ... \u001b[?25l\u001b[?25herror\n",
            "\u001b[1;31merror\u001b[0m: \u001b[1msubprocess-exited-with-error\u001b[0m\n",
            "\n",
            "\u001b[31m×\u001b[0m \u001b[32mGetting requirements to build wheel\u001b[0m did not run successfully.\n",
            "\u001b[31m│\u001b[0m exit code: \u001b[1;36m1\u001b[0m\n",
            "\u001b[31m╰─>\u001b[0m See above for output.\n",
            "\n",
            "\u001b[1;35mnote\u001b[0m: This error originates from a subprocess, and is likely not a problem with pip.\n"
          ]
        }
      ],
      "source": [
        "!pip install qiskit==0.39.0\n",
        "!pip install --upgrade pip wheel\n",
        "!pip install qiskit-aer==0.10.4\n"
      ]
    },
    {
      "cell_type": "code",
      "source": [
        "!pip install pennylane"
      ],
      "metadata": {
        "colab": {
          "base_uri": "https://localhost:8080/"
        },
        "id": "I0-griJVJvAu",
        "outputId": "2505e807-7053-4ae3-f823-713880e03444"
      },
      "execution_count": 26,
      "outputs": [
        {
          "output_type": "stream",
          "name": "stdout",
          "text": [
            "Collecting pennylane\n",
            "  Downloading PennyLane-0.41.1-py3-none-any.whl.metadata (10 kB)\n",
            "Requirement already satisfied: numpy in /usr/local/lib/python3.11/dist-packages (from pennylane) (2.0.2)\n",
            "Requirement already satisfied: scipy in /usr/local/lib/python3.11/dist-packages (from pennylane) (1.15.3)\n",
            "Requirement already satisfied: networkx in /usr/local/lib/python3.11/dist-packages (from pennylane) (3.5)\n",
            "Requirement already satisfied: rustworkx>=0.14.0 in /usr/local/lib/python3.11/dist-packages (from pennylane) (0.16.0)\n",
            "Requirement already satisfied: autograd in /usr/local/lib/python3.11/dist-packages (from pennylane) (1.8.0)\n",
            "Requirement already satisfied: tomlkit in /usr/local/lib/python3.11/dist-packages (from pennylane) (0.13.3)\n",
            "Collecting appdirs (from pennylane)\n",
            "  Downloading appdirs-1.4.4-py2.py3-none-any.whl.metadata (9.0 kB)\n",
            "Collecting autoray>=0.6.11 (from pennylane)\n",
            "  Downloading autoray-0.7.1-py3-none-any.whl.metadata (5.8 kB)\n",
            "Requirement already satisfied: cachetools in /usr/local/lib/python3.11/dist-packages (from pennylane) (5.5.2)\n",
            "Collecting pennylane-lightning>=0.41 (from pennylane)\n",
            "  Downloading pennylane_lightning-0.41.1-cp311-cp311-manylinux_2_28_x86_64.whl.metadata (12 kB)\n",
            "Requirement already satisfied: requests in /usr/local/lib/python3.11/dist-packages (from pennylane) (2.32.3)\n",
            "Requirement already satisfied: typing-extensions in /usr/local/lib/python3.11/dist-packages (from pennylane) (4.14.0)\n",
            "Requirement already satisfied: packaging in /usr/local/lib/python3.11/dist-packages (from pennylane) (24.2)\n",
            "Collecting diastatic-malt (from pennylane)\n",
            "  Downloading diastatic_malt-2.15.2-py3-none-any.whl.metadata (2.6 kB)\n",
            "Collecting scipy-openblas32>=0.3.26 (from pennylane-lightning>=0.41->pennylane)\n",
            "  Downloading scipy_openblas32-0.3.29.265.1-py3-none-manylinux2014_x86_64.manylinux_2_17_x86_64.whl.metadata (56 kB)\n",
            "Requirement already satisfied: astunparse in /usr/local/lib/python3.11/dist-packages (from diastatic-malt->pennylane) (1.6.3)\n",
            "Requirement already satisfied: gast in /usr/local/lib/python3.11/dist-packages (from diastatic-malt->pennylane) (0.6.0)\n",
            "Requirement already satisfied: termcolor in /usr/local/lib/python3.11/dist-packages (from diastatic-malt->pennylane) (3.1.0)\n",
            "Requirement already satisfied: wheel<1.0,>=0.23.0 in /usr/local/lib/python3.11/dist-packages (from astunparse->diastatic-malt->pennylane) (0.45.1)\n",
            "Requirement already satisfied: six<2.0,>=1.6.1 in /usr/local/lib/python3.11/dist-packages (from astunparse->diastatic-malt->pennylane) (1.17.0)\n",
            "Requirement already satisfied: charset-normalizer<4,>=2 in /usr/local/lib/python3.11/dist-packages (from requests->pennylane) (3.4.2)\n",
            "Requirement already satisfied: idna<4,>=2.5 in /usr/local/lib/python3.11/dist-packages (from requests->pennylane) (3.10)\n",
            "Requirement already satisfied: urllib3<3,>=1.21.1 in /usr/local/lib/python3.11/dist-packages (from requests->pennylane) (2.4.0)\n",
            "Requirement already satisfied: certifi>=2017.4.17 in /usr/local/lib/python3.11/dist-packages (from requests->pennylane) (2025.6.15)\n",
            "Downloading PennyLane-0.41.1-py3-none-any.whl (2.3 MB)\n",
            "\u001b[2K   \u001b[90m━━━━━━━━━━━━━━━━━━━━━━━━━━━━━━━━━━━━━━━━\u001b[0m \u001b[32m2.3/2.3 MB\u001b[0m \u001b[31m36.8 MB/s\u001b[0m eta \u001b[36m0:00:00\u001b[0m\n",
            "\u001b[?25hDownloading autoray-0.7.1-py3-none-any.whl (930 kB)\n",
            "\u001b[2K   \u001b[90m━━━━━━━━━━━━━━━━━━━━━━━━━━━━━━━━━━━━━━━━\u001b[0m \u001b[32m930.8/930.8 kB\u001b[0m \u001b[31m43.4 MB/s\u001b[0m eta \u001b[36m0:00:00\u001b[0m\n",
            "\u001b[?25hDownloading pennylane_lightning-0.41.1-cp311-cp311-manylinux_2_28_x86_64.whl (2.5 MB)\n",
            "\u001b[2K   \u001b[90m━━━━━━━━━━━━━━━━━━━━━━━━━━━━━━━━━━━━━━━━\u001b[0m \u001b[32m2.5/2.5 MB\u001b[0m \u001b[31m66.6 MB/s\u001b[0m eta \u001b[36m0:00:00\u001b[0m\n",
            "\u001b[?25hDownloading scipy_openblas32-0.3.29.265.1-py3-none-manylinux2014_x86_64.manylinux_2_17_x86_64.whl (8.6 MB)\n",
            "\u001b[2K   \u001b[90m━━━━━━━━━━━━━━━━━━━━━━━━━━━━━━━━━━━━━━━━\u001b[0m \u001b[32m8.6/8.6 MB\u001b[0m \u001b[31m79.7 MB/s\u001b[0m eta \u001b[36m0:00:00\u001b[0m\n",
            "\u001b[?25hDownloading appdirs-1.4.4-py2.py3-none-any.whl (9.6 kB)\n",
            "Downloading diastatic_malt-2.15.2-py3-none-any.whl (167 kB)\n",
            "Installing collected packages: appdirs, scipy-openblas32, autoray, diastatic-malt, pennylane-lightning, pennylane\n",
            "\u001b[2K   \u001b[90m━━━━━━━━━━━━━━━━━━━━━━━━━━━━━━━━━━━━━━━━\u001b[0m \u001b[32m6/6\u001b[0m [pennylane]\n",
            "\u001b[1A\u001b[2KSuccessfully installed appdirs-1.4.4 autoray-0.7.1 diastatic-malt-2.15.2 pennylane-0.41.1 pennylane-lightning-0.41.1 scipy-openblas32-0.3.29.265.1\n"
          ]
        }
      ]
    },
    {
      "cell_type": "code",
      "source": [
        "!pip install pennylane-qiskit"
      ],
      "metadata": {
        "colab": {
          "base_uri": "https://localhost:8080/",
          "height": 1000
        },
        "id": "HLYuXEbdoR34",
        "outputId": "48c2f314-6828-48d9-e6aa-a273141ff007"
      },
      "execution_count": 43,
      "outputs": [
        {
          "output_type": "stream",
          "name": "stdout",
          "text": [
            "Collecting pennylane-qiskit\n",
            "  Downloading pennylane_qiskit-0.41.0.post0-py3-none-any.whl.metadata (6.6 kB)\n",
            "Collecting qiskit<1.3,>=0.32 (from pennylane-qiskit)\n",
            "  Downloading qiskit-1.2.4-cp38-abi3-manylinux_2_17_x86_64.manylinux2014_x86_64.whl.metadata (12 kB)\n",
            "Collecting qiskit-aer<0.16.1 (from pennylane-qiskit)\n",
            "  Downloading qiskit_aer-0.16.0-cp311-cp311-manylinux_2_17_x86_64.manylinux2014_x86_64.whl.metadata (8.2 kB)\n",
            "Collecting qiskit-ibm-runtime<=0.29 (from pennylane-qiskit)\n",
            "  Downloading qiskit_ibm_runtime-0.29.0-py3-none-any.whl.metadata (19 kB)\n",
            "Collecting qiskit-ibm-provider (from pennylane-qiskit)\n",
            "  Downloading qiskit_ibm_provider-0.11.0-py3-none-any.whl.metadata (7.6 kB)\n",
            "Requirement already satisfied: pennylane>=0.38 in /usr/local/lib/python3.11/dist-packages (from pennylane-qiskit) (0.41.1)\n",
            "Requirement already satisfied: numpy in /usr/local/lib/python3.11/dist-packages (from pennylane-qiskit) (2.0.2)\n",
            "Collecting sympy<1.13 (from pennylane-qiskit)\n",
            "  Downloading sympy-1.12.1-py3-none-any.whl.metadata (12 kB)\n",
            "Requirement already satisfied: networkx>=2.2 in /usr/local/lib/python3.11/dist-packages (from pennylane-qiskit) (3.5)\n",
            "Requirement already satisfied: rustworkx>=0.15.0 in /usr/local/lib/python3.11/dist-packages (from qiskit<1.3,>=0.32->pennylane-qiskit) (0.16.0)\n",
            "Requirement already satisfied: scipy>=1.5 in /usr/local/lib/python3.11/dist-packages (from qiskit<1.3,>=0.32->pennylane-qiskit) (1.15.3)\n",
            "Requirement already satisfied: dill>=0.3 in /usr/local/lib/python3.11/dist-packages (from qiskit<1.3,>=0.32->pennylane-qiskit) (0.3.7)\n",
            "Requirement already satisfied: python-dateutil>=2.8.0 in /usr/local/lib/python3.11/dist-packages (from qiskit<1.3,>=0.32->pennylane-qiskit) (2.9.0.post0)\n",
            "Requirement already satisfied: stevedore>=3.0.0 in /usr/local/lib/python3.11/dist-packages (from qiskit<1.3,>=0.32->pennylane-qiskit) (5.4.1)\n",
            "Requirement already satisfied: typing-extensions in /usr/local/lib/python3.11/dist-packages (from qiskit<1.3,>=0.32->pennylane-qiskit) (4.14.0)\n",
            "Collecting symengine<0.14,>=0.11 (from qiskit<1.3,>=0.32->pennylane-qiskit)\n",
            "  Downloading symengine-0.13.0-cp311-cp311-manylinux_2_17_x86_64.manylinux2014_x86_64.whl.metadata (1.2 kB)\n",
            "Requirement already satisfied: psutil>=5 in /usr/local/lib/python3.11/dist-packages (from qiskit-aer<0.16.1->pennylane-qiskit) (5.9.5)\n",
            "Requirement already satisfied: requests>=2.19 in /usr/local/lib/python3.11/dist-packages (from qiskit-ibm-runtime<=0.29->pennylane-qiskit) (2.32.3)\n",
            "Collecting requests-ntlm>=1.1.0 (from qiskit-ibm-runtime<=0.29->pennylane-qiskit)\n",
            "  Downloading requests_ntlm-1.3.0-py3-none-any.whl.metadata (2.4 kB)\n",
            "Requirement already satisfied: urllib3>=1.21.1 in /usr/local/lib/python3.11/dist-packages (from qiskit-ibm-runtime<=0.29->pennylane-qiskit) (2.4.0)\n",
            "Requirement already satisfied: websocket-client>=1.5.1 in /usr/local/lib/python3.11/dist-packages (from qiskit-ibm-runtime<=0.29->pennylane-qiskit) (1.8.0)\n",
            "Collecting ibm-platform-services>=0.22.6 (from qiskit-ibm-runtime<=0.29->pennylane-qiskit)\n",
            "  Downloading ibm_platform_services-0.66.2-py3-none-any.whl.metadata (9.0 kB)\n",
            "Requirement already satisfied: pydantic>=2.5.0 in /usr/local/lib/python3.11/dist-packages (from qiskit-ibm-runtime<=0.29->pennylane-qiskit) (2.11.7)\n",
            "Requirement already satisfied: mpmath<1.4.0,>=1.1.0 in /usr/local/lib/python3.11/dist-packages (from sympy<1.13->pennylane-qiskit) (1.3.0)\n",
            "Collecting ibm_cloud_sdk_core<4.0.0,>=3.24.2 (from ibm-platform-services>=0.22.6->qiskit-ibm-runtime<=0.29->pennylane-qiskit)\n",
            "  Downloading ibm_cloud_sdk_core-3.24.2-py3-none-any.whl.metadata (8.7 kB)\n",
            "Collecting requests>=2.19 (from qiskit-ibm-runtime<=0.29->pennylane-qiskit)\n",
            "  Using cached requests-2.32.4-py3-none-any.whl.metadata (4.9 kB)\n",
            "Requirement already satisfied: PyJWT<3.0.0,>=2.10.1 in /usr/local/lib/python3.11/dist-packages (from ibm_cloud_sdk_core<4.0.0,>=3.24.2->ibm-platform-services>=0.22.6->qiskit-ibm-runtime<=0.29->pennylane-qiskit) (2.10.1)\n",
            "Requirement already satisfied: six>=1.5 in /usr/local/lib/python3.11/dist-packages (from python-dateutil>=2.8.0->qiskit<1.3,>=0.32->pennylane-qiskit) (1.17.0)\n",
            "Requirement already satisfied: charset_normalizer<4,>=2 in /usr/local/lib/python3.11/dist-packages (from requests>=2.19->qiskit-ibm-runtime<=0.29->pennylane-qiskit) (3.4.2)\n",
            "Requirement already satisfied: idna<4,>=2.5 in /usr/local/lib/python3.11/dist-packages (from requests>=2.19->qiskit-ibm-runtime<=0.29->pennylane-qiskit) (3.10)\n",
            "Requirement already satisfied: certifi>=2017.4.17 in /usr/local/lib/python3.11/dist-packages (from requests>=2.19->qiskit-ibm-runtime<=0.29->pennylane-qiskit) (2025.6.15)\n",
            "Requirement already satisfied: autograd in /usr/local/lib/python3.11/dist-packages (from pennylane>=0.38->pennylane-qiskit) (1.8.0)\n",
            "Requirement already satisfied: tomlkit in /usr/local/lib/python3.11/dist-packages (from pennylane>=0.38->pennylane-qiskit) (0.13.3)\n",
            "Requirement already satisfied: appdirs in /usr/local/lib/python3.11/dist-packages (from pennylane>=0.38->pennylane-qiskit) (1.4.4)\n",
            "Requirement already satisfied: autoray>=0.6.11 in /usr/local/lib/python3.11/dist-packages (from pennylane>=0.38->pennylane-qiskit) (0.7.1)\n",
            "Requirement already satisfied: cachetools in /usr/local/lib/python3.11/dist-packages (from pennylane>=0.38->pennylane-qiskit) (5.5.2)\n",
            "Requirement already satisfied: pennylane-lightning>=0.41 in /usr/local/lib/python3.11/dist-packages (from pennylane>=0.38->pennylane-qiskit) (0.41.1)\n",
            "Requirement already satisfied: packaging in /usr/local/lib/python3.11/dist-packages (from pennylane>=0.38->pennylane-qiskit) (24.2)\n",
            "Requirement already satisfied: diastatic-malt in /usr/local/lib/python3.11/dist-packages (from pennylane>=0.38->pennylane-qiskit) (2.15.2)\n",
            "Requirement already satisfied: scipy-openblas32>=0.3.26 in /usr/local/lib/python3.11/dist-packages (from pennylane-lightning>=0.41->pennylane>=0.38->pennylane-qiskit) (0.3.29.265.1)\n",
            "Requirement already satisfied: annotated-types>=0.6.0 in /usr/local/lib/python3.11/dist-packages (from pydantic>=2.5.0->qiskit-ibm-runtime<=0.29->pennylane-qiskit) (0.7.0)\n",
            "Requirement already satisfied: pydantic-core==2.33.2 in /usr/local/lib/python3.11/dist-packages (from pydantic>=2.5.0->qiskit-ibm-runtime<=0.29->pennylane-qiskit) (2.33.2)\n",
            "Requirement already satisfied: typing-inspection>=0.4.0 in /usr/local/lib/python3.11/dist-packages (from pydantic>=2.5.0->qiskit-ibm-runtime<=0.29->pennylane-qiskit) (0.4.1)\n",
            "Requirement already satisfied: cryptography>=1.3 in /usr/local/lib/python3.11/dist-packages (from requests-ntlm>=1.1.0->qiskit-ibm-runtime<=0.29->pennylane-qiskit) (43.0.3)\n",
            "Collecting pyspnego>=0.4.0 (from requests-ntlm>=1.1.0->qiskit-ibm-runtime<=0.29->pennylane-qiskit)\n",
            "  Downloading pyspnego-0.11.2-py3-none-any.whl.metadata (5.4 kB)\n",
            "Requirement already satisfied: cffi>=1.12 in /usr/local/lib/python3.11/dist-packages (from cryptography>=1.3->requests-ntlm>=1.1.0->qiskit-ibm-runtime<=0.29->pennylane-qiskit) (1.17.1)\n",
            "Requirement already satisfied: pycparser in /usr/local/lib/python3.11/dist-packages (from cffi>=1.12->cryptography>=1.3->requests-ntlm>=1.1.0->qiskit-ibm-runtime<=0.29->pennylane-qiskit) (2.22)\n",
            "Requirement already satisfied: pbr>=2.0.0 in /usr/local/lib/python3.11/dist-packages (from stevedore>=3.0.0->qiskit<1.3,>=0.32->pennylane-qiskit) (6.1.1)\n",
            "Requirement already satisfied: setuptools in /usr/local/lib/python3.11/dist-packages (from pbr>=2.0.0->stevedore>=3.0.0->qiskit<1.3,>=0.32->pennylane-qiskit) (75.2.0)\n",
            "Requirement already satisfied: astunparse in /usr/local/lib/python3.11/dist-packages (from diastatic-malt->pennylane>=0.38->pennylane-qiskit) (1.6.3)\n",
            "Requirement already satisfied: gast in /usr/local/lib/python3.11/dist-packages (from diastatic-malt->pennylane>=0.38->pennylane-qiskit) (0.6.0)\n",
            "Requirement already satisfied: termcolor in /usr/local/lib/python3.11/dist-packages (from diastatic-malt->pennylane>=0.38->pennylane-qiskit) (3.1.0)\n",
            "Requirement already satisfied: wheel<1.0,>=0.23.0 in /usr/local/lib/python3.11/dist-packages (from astunparse->diastatic-malt->pennylane>=0.38->pennylane-qiskit) (0.45.1)\n",
            "Requirement already satisfied: websockets>=10.0 in /usr/local/lib/python3.11/dist-packages (from qiskit-ibm-provider->pennylane-qiskit) (15.0.1)\n",
            "Downloading pennylane_qiskit-0.41.0.post0-py3-none-any.whl (44 kB)\n",
            "Downloading qiskit-1.2.4-cp38-abi3-manylinux_2_17_x86_64.manylinux2014_x86_64.whl (4.8 MB)\n",
            "\u001b[2K   \u001b[90m━━━━━━━━━━━━━━━━━━━━━━━━━━━━━━━━━━━━━━━━\u001b[0m \u001b[32m4.8/4.8 MB\u001b[0m \u001b[31m61.0 MB/s\u001b[0m eta \u001b[36m0:00:00\u001b[0m\n",
            "\u001b[?25hDownloading qiskit_aer-0.16.0-cp311-cp311-manylinux_2_17_x86_64.manylinux2014_x86_64.whl (12.4 MB)\n",
            "\u001b[2K   \u001b[90m━━━━━━━━━━━━━━━━━━━━━━━━━━━━━━━━━━━━━━━━\u001b[0m \u001b[32m12.4/12.4 MB\u001b[0m \u001b[31m51.9 MB/s\u001b[0m eta \u001b[36m0:00:00\u001b[0m\n",
            "\u001b[?25hDownloading qiskit_ibm_runtime-0.29.0-py3-none-any.whl (2.9 MB)\n",
            "\u001b[2K   \u001b[90m━━━━━━━━━━━━━━━━━━━━━━━━━━━━━━━━━━━━━━━━\u001b[0m \u001b[32m2.9/2.9 MB\u001b[0m \u001b[31m48.0 MB/s\u001b[0m eta \u001b[36m0:00:00\u001b[0m\n",
            "\u001b[?25hDownloading symengine-0.13.0-cp311-cp311-manylinux_2_17_x86_64.manylinux2014_x86_64.whl (49.7 MB)\n",
            "\u001b[2K   \u001b[90m━━━━━━━━━━━━━━━━━━━━━━━━━━━━━━━━━━━━━━━━\u001b[0m \u001b[32m49.7/49.7 MB\u001b[0m \u001b[31m34.4 MB/s\u001b[0m eta \u001b[36m0:00:00\u001b[0m\n",
            "\u001b[?25hDownloading sympy-1.12.1-py3-none-any.whl (5.7 MB)\n",
            "\u001b[2K   \u001b[90m━━━━━━━━━━━━━━━━━━━━━━━━━━━━━━━━━━━━━━━━\u001b[0m \u001b[32m5.7/5.7 MB\u001b[0m \u001b[31m64.6 MB/s\u001b[0m eta \u001b[36m0:00:00\u001b[0m\n",
            "\u001b[?25hDownloading ibm_platform_services-0.66.2-py3-none-any.whl (363 kB)\n",
            "Downloading ibm_cloud_sdk_core-3.24.2-py3-none-any.whl (75 kB)\n",
            "Using cached requests-2.32.4-py3-none-any.whl (64 kB)\n",
            "Downloading requests_ntlm-1.3.0-py3-none-any.whl (6.6 kB)\n",
            "Downloading pyspnego-0.11.2-py3-none-any.whl (130 kB)\n",
            "Downloading qiskit_ibm_provider-0.11.0-py3-none-any.whl (249 kB)\n",
            "Installing collected packages: sympy, symengine, requests, ibm_cloud_sdk_core, qiskit, pyspnego, ibm-platform-services, requests-ntlm, qiskit-aer, qiskit-ibm-runtime, qiskit-ibm-provider, pennylane-qiskit\n",
            "\u001b[2K  Attempting uninstall: sympy\n",
            "\u001b[2K    Found existing installation: sympy 1.13.1\n",
            "\u001b[2K    Uninstalling sympy-1.13.1:\n",
            "\u001b[2K      Successfully uninstalled sympy-1.13.1\n",
            "\u001b[2K  Attempting uninstall: requests\n",
            "\u001b[2K    Found existing installation: requests 2.32.3\n",
            "\u001b[2K    Uninstalling requests-2.32.3:\n",
            "\u001b[2K      Successfully uninstalled requests-2.32.3\n",
            "\u001b[2K  Attempting uninstall: qiskit\n",
            "\u001b[2K    Found existing installation: qiskit 2.1.0\n",
            "\u001b[2K    Uninstalling qiskit-2.1.0:\n",
            "\u001b[2K      Successfully uninstalled qiskit-2.1.0\n",
            "\u001b[2K  Attempting uninstall: qiskit-aer\n",
            "\u001b[2K    Found existing installation: qiskit-aer 0.17.1\n",
            "\u001b[2K    Uninstalling qiskit-aer-0.17.1:\n",
            "\u001b[2K      Successfully uninstalled qiskit-aer-0.17.1\n",
            "\u001b[2K   \u001b[90m━━━━━━━━━━━━━━━━━━━━━━━━━━━━━━━━━━━━━━━━\u001b[0m \u001b[32m12/12\u001b[0m [pennylane-qiskit]\n",
            "\u001b[1A\u001b[2K\u001b[31mERROR: pip's dependency resolver does not currently take into account all the packages that are installed. This behaviour is the source of the following dependency conflicts.\n",
            "google-colab 1.0.0 requires requests==2.32.3, but you have requests 2.32.4 which is incompatible.\n",
            "torch 2.6.0+cu124 requires nvidia-cublas-cu12==12.4.5.8; platform_system == \"Linux\" and platform_machine == \"x86_64\", but you have nvidia-cublas-cu12 12.5.3.2 which is incompatible.\n",
            "torch 2.6.0+cu124 requires nvidia-cuda-cupti-cu12==12.4.127; platform_system == \"Linux\" and platform_machine == \"x86_64\", but you have nvidia-cuda-cupti-cu12 12.5.82 which is incompatible.\n",
            "torch 2.6.0+cu124 requires nvidia-cuda-nvrtc-cu12==12.4.127; platform_system == \"Linux\" and platform_machine == \"x86_64\", but you have nvidia-cuda-nvrtc-cu12 12.5.82 which is incompatible.\n",
            "torch 2.6.0+cu124 requires nvidia-cuda-runtime-cu12==12.4.127; platform_system == \"Linux\" and platform_machine == \"x86_64\", but you have nvidia-cuda-runtime-cu12 12.5.82 which is incompatible.\n",
            "torch 2.6.0+cu124 requires nvidia-cudnn-cu12==9.1.0.70; platform_system == \"Linux\" and platform_machine == \"x86_64\", but you have nvidia-cudnn-cu12 9.3.0.75 which is incompatible.\n",
            "torch 2.6.0+cu124 requires nvidia-cufft-cu12==11.2.1.3; platform_system == \"Linux\" and platform_machine == \"x86_64\", but you have nvidia-cufft-cu12 11.2.3.61 which is incompatible.\n",
            "torch 2.6.0+cu124 requires nvidia-curand-cu12==10.3.5.147; platform_system == \"Linux\" and platform_machine == \"x86_64\", but you have nvidia-curand-cu12 10.3.6.82 which is incompatible.\n",
            "torch 2.6.0+cu124 requires nvidia-cusolver-cu12==11.6.1.9; platform_system == \"Linux\" and platform_machine == \"x86_64\", but you have nvidia-cusolver-cu12 11.6.3.83 which is incompatible.\n",
            "torch 2.6.0+cu124 requires nvidia-cusparse-cu12==12.3.1.170; platform_system == \"Linux\" and platform_machine == \"x86_64\", but you have nvidia-cusparse-cu12 12.5.1.3 which is incompatible.\n",
            "torch 2.6.0+cu124 requires nvidia-nvjitlink-cu12==12.4.127; platform_system == \"Linux\" and platform_machine == \"x86_64\", but you have nvidia-nvjitlink-cu12 12.5.82 which is incompatible.\n",
            "torch 2.6.0+cu124 requires sympy==1.13.1; python_version >= \"3.9\", but you have sympy 1.12.1 which is incompatible.\u001b[0m\u001b[31m\n",
            "\u001b[0mSuccessfully installed ibm-platform-services-0.66.2 ibm_cloud_sdk_core-3.24.2 pennylane-qiskit-0.41.0.post0 pyspnego-0.11.2 qiskit-1.2.4 qiskit-aer-0.16.0 qiskit-ibm-provider-0.11.0 qiskit-ibm-runtime-0.29.0 requests-2.32.4 requests-ntlm-1.3.0 symengine-0.13.0 sympy-1.12.1\n"
          ]
        },
        {
          "output_type": "display_data",
          "data": {
            "application/vnd.colab-display-data+json": {
              "pip_warning": {
                "packages": [
                  "qiskit",
                  "qiskit_aer",
                  "requests"
                ]
              },
              "id": "381a0466b88444cebaf59fa974f97b41"
            }
          },
          "metadata": {}
        }
      ]
    },
    {
      "cell_type": "code",
      "source": [
        "import numpy as np\n",
        "from sklearn.model_selection import train_test_split\n",
        "from sklearn.preprocessing import StandardScaler\n",
        "from qiskit_aer import AerSimulator\n",
        "from qiskit.circuit.library import ZZFeatureMap, RealAmplitudes\n",
        "from qiskit_aer.primitives import EstimatorV2\n",
        "#from qiskit.algorithms.optimizers import COBYLA\n",
        "from scipy.optimize import minimize\n",
        "import pennylane as qml\n",
        "from qiskit_aer.noise import NoiseModel, depolarizing_error\n",
        "\n",
        "def generate_signals(n_samples=200, n_points=8):\n",
        "    \"\"\"\n",
        "    Generates a synthetic dataset of sine vs. square waves.\n",
        "\n",
        "    Args:\n",
        "        n_samples (int): Total number of signal samples to generate.\n",
        "        n_points (int): Number of time points to sample for each signal. This\n",
        "                        will correspond to the number of features/qubits.\n",
        "\n",
        "    Returns:\n",
        "        tuple: A tuple containing the signal data (X) and labels (y).\n",
        "    \"\"\"\n",
        "    X = []\n",
        "    y = []\n",
        "    t = np.linspace(0, 1, n_points)\n",
        "\n",
        "    for _ in range(n_samples):\n",
        "        # Randomly choose between class 0 (sine) and class 1 (square)\n",
        "        if np.random.rand() < 0.5:\n",
        "            # Class 0: Sine wave with random frequency and noise\n",
        "            freq = np.random.uniform(1, 5)\n",
        "            sig = np.sin(2 * np.pi * freq * t) + 0.1 * np.random.randn(n_points)\n",
        "            label = 0\n",
        "        else:\n",
        "            # Class 1: Square wave with random frequency and noise\n",
        "            freq = np.random.uniform(1, 5)\n",
        "            sig = np.sign(np.sin(2 * np.pi * freq * t)) + 0.1 * np.random.randn(n_points)\n",
        "            label = 1\n",
        "        X.append(sig)\n",
        "        y.append(label)\n",
        "\n",
        "    X = np.array(X)\n",
        "    y = np.array(y)\n",
        "    return X, y\n",
        "\n",
        "# --- 1. Data Generation and Preprocessing ---\n",
        "print(\"Step 1: Generating and preprocessing data...\")\n",
        "# Use n_points=8, which means we will need 8 qubits.\n",
        "X, y = generate_signals(n_samples=200, n_points=8)\n",
        "\n",
        "# Normalize the data\n",
        "scaler = StandardScaler()\n",
        "X_scaled = scaler.fit_transform(X)\n",
        "\n",
        "# Split into training and testing sets\n",
        "X_train, X_test, y_train, y_test = train_test_split(\n",
        "    X_scaled, y, test_size=0.3, random_state=42\n",
        ")\n",
        "print(f\"Data prepared: {X_train.shape} training samples, {X_test.shape} test samples.\")\n",
        "print(\"-\" * 30)"
      ],
      "metadata": {
        "colab": {
          "base_uri": "https://localhost:8080/"
        },
        "id": "C1V6j6ROCxYY",
        "outputId": "991043e2-18e0-4e85-c2cd-db6f370d8151"
      },
      "execution_count": 27,
      "outputs": [
        {
          "output_type": "stream",
          "name": "stderr",
          "text": [
            "/usr/local/lib/python3.11/dist-packages/pennylane/capture/capture_operators.py:33: RuntimeWarning: PennyLane is not yet compatible with JAX versions > 0.4.28. You have version 0.5.2 installed. Please downgrade JAX to <=0.4.28 to avoid runtime errors.\n",
            "  warnings.warn(\n"
          ]
        },
        {
          "output_type": "stream",
          "name": "stdout",
          "text": [
            "Step 1: Generating and preprocessing data...\n",
            "Data prepared: (140, 8) training samples, (60, 8) test samples.\n",
            "------------------------------\n"
          ]
        }
      ]
    },
    {
      "cell_type": "code",
      "source": [
        "y_train = 2 * (y_train == 1) - 1\n",
        "y_test = 2 * (y_test == 1) - 1\n"
      ],
      "metadata": {
        "id": "I7XYnEsQf4jC"
      },
      "execution_count": 38,
      "outputs": []
    },
    {
      "cell_type": "code",
      "source": [
        "print(\"Unique test labels:\", np.unique(y_test))  # Should show [-1, 1]"
      ],
      "metadata": {
        "colab": {
          "base_uri": "https://localhost:8080/"
        },
        "id": "Zp__IzGofilH",
        "outputId": "4c171df5-d255-4f50-e037-0f08ec81ee26"
      },
      "execution_count": 39,
      "outputs": [
        {
          "output_type": "stream",
          "name": "stdout",
          "text": [
            "Unique test labels: [-1  1]\n"
          ]
        }
      ]
    },
    {
      "cell_type": "code",
      "source": [
        "# --- Part 2: PennyLane VQC Construction ---\n",
        "import pennylane as qml\n",
        "from pennylane import numpy as pnp\n",
        "\n",
        "n_qubits = X_train.shape[1]\n",
        "dev = qml.device(\"default.qubit\", wires=n_qubits)\n",
        "\n",
        "# Define ZZFeatureMap (custom)\n",
        "def zz_feature_map(x):\n",
        "    for i in range(n_qubits):\n",
        "        qml.Hadamard(wires=i)\n",
        "    for i in range(n_qubits):\n",
        "        qml.RZ(x[i], wires=i)\n",
        "    for i in range(n_qubits):\n",
        "        for j in range(i + 1, n_qubits):\n",
        "            qml.CNOT(wires=[i, j])\n",
        "            qml.RZ(2 * x[i] * x[j], wires=j)\n",
        "            qml.CNOT(wires=[i, j])\n",
        "\n",
        "# Define the full circuit with ansatz\n",
        "@qml.qnode(dev)\n",
        "def circuit(x, weights):\n",
        "    zz_feature_map(x)\n",
        "    qml.templates.StronglyEntanglingLayers(weights, wires=range(n_qubits))\n",
        "    return qml.expval(qml.PauliZ(0))  # Binary output\n",
        "\n",
        "def vqc_model(x, weights):\n",
        "    return circuit(x, weights)\n",
        "\n",
        "# Define loss function (logistic loss)\n",
        "def loss(weights, X, y):\n",
        "    preds = [vqc_model(x, weights) for x in X]\n",
        "    return pnp.mean(pnp.log(1 + pnp.exp(-y * pnp.array(preds))))\n",
        "\n",
        "# --- Part 3: Training with PennyLane Optimizer ---\n",
        "print(\"Step 2: Constructing and training the VQC model...\")\n",
        "\n",
        "# Initialize trainable weights\n",
        "depth = 5\n",
        "weights = pnp.array(0.01 * np.random.randn(3, n_qubits, 3), requires_grad=True)\n",
        "\n",
        "# Use PennyLane's Adam optimizer\n",
        "opt = qml.optimize.AdamOptimizer(stepsize=0.1)\n",
        "steps = 50\n",
        "\n",
        "for step in range(steps):\n",
        "    weights = opt.step(lambda w: loss(w, X_train, y_train), weights)\n",
        "    if step % 10 == 0:\n",
        "        current_loss = loss(weights, X_train, y_train)\n",
        "        print(f\"Step {step:3d} | Loss: {current_loss:.4f}\")\n",
        "\n",
        "print(\"Unique test labels:\", np.unique(y_test))  # Should show [-1, 1]\n",
        "\n",
        "# --- Part 4: Evaluation ---\n",
        "print(\"\\nStep 3: Evaluating on test data...\")\n",
        "# Predict 1 if output > 0, else -1\n",
        "y_pred = [1 if vqc_model(x, weights) > 0 else -1 for x in X_test]\n",
        "accuracy = np.mean(y_pred == y_test)\n",
        "print(f\"Test Accuracy: {accuracy * 100:.2f}%\")"
      ],
      "metadata": {
        "colab": {
          "base_uri": "https://localhost:8080/"
        },
        "id": "asFT0MFCQ5VQ",
        "outputId": "952dc28d-380b-4a73-84b9-71f7e3e60ca3"
      },
      "execution_count": 40,
      "outputs": [
        {
          "output_type": "stream",
          "name": "stdout",
          "text": [
            "Step 2: Constructing and training the VQC model...\n",
            "Step   0 | Loss: 0.6902\n",
            "Step  10 | Loss: 0.6671\n",
            "Step  20 | Loss: 0.6465\n",
            "Step  30 | Loss: 0.6427\n",
            "Step  40 | Loss: 0.6396\n",
            "Unique test labels: [-1  1]\n",
            "\n",
            "Step 3: Evaluating on test data...\n",
            "Test Accuracy: 71.67%\n"
          ]
        }
      ]
    },
    {
      "cell_type": "code",
      "source": [
        "from sklearn.decomposition import PCA\n",
        "\n",
        "# Reduce to 4 dimensions\n",
        "pca = PCA(n_components=4)\n",
        "X_train_small = pca.fit_transform(X_train)\n",
        "X_test_small = pca.transform(X_test)\n",
        "n_qubits = 4  # now we're using only 4 qubits"
      ],
      "metadata": {
        "id": "vvOqPZTCzeUe"
      },
      "execution_count": 50,
      "outputs": []
    },
    {
      "cell_type": "code",
      "source": [
        "import matplotlib.pyplot as plt\n",
        "\n",
        "dev = qml.device(\"default.mixed\", wires=n_qubits, shots=None)\n",
        "\n",
        "def noisy_feature_map(x):\n",
        "    for i in range(n_qubits):\n",
        "        qml.Hadamard(wires=i)\n",
        "        qml.RZ(x[i], wires=i)\n",
        "        qml.DepolarizingChannel(0.01, wires=i)\n",
        "    for i in range(n_qubits - 1):\n",
        "        qml.CNOT(wires=[i, i+1])\n",
        "        qml.DepolarizingChannel(0.02, wires=i+1)\n",
        "\n",
        "@qml.qnode(dev)\n",
        "def circuit(x, weights):\n",
        "    noisy_feature_map(x)\n",
        "    qml.templates.StronglyEntanglingLayers(weights, wires=range(n_qubits))\n",
        "    return qml.expval(qml.PauliZ(0))\n",
        "\n",
        "def model(x, w): return circuit(x, w)\n",
        "def loss(w, X, y):\n",
        "    return pnp.mean(pnp.log(1 + pnp.exp(-y * pnp.array([model(x, w) for x in X]))))\n",
        "\n",
        "# Train with reduced qubits\n",
        "weights = pnp.array(0.01 * np.random.randn(3, n_qubits, 3), requires_grad=True)\n",
        "opt = qml.optimize.AdamOptimizer(stepsize=0.1)\n",
        "losses = []\n",
        "\n",
        "print(\" Training 4-qubit noisy VQC...\")\n",
        "for step in range(30):\n",
        "    weights = opt.step(lambda w: loss(w, X_train_small, y_train), weights)\n",
        "    l = loss(weights, X_train_small, y_train)\n",
        "    losses.append(l)\n",
        "    print(f\"[{step:02d}] Loss: {l:.4f}\")\n",
        "\n",
        "# Evaluate\n",
        "y_pred = [1 if model(x, weights) > 0 else -1 for x in X_test_small]\n",
        "acc = np.mean(y_pred == y_test)\n",
        "print(f\"\\n Test Accuracy (4Q Noisy): {acc*100:.2f}%\")\n",
        "\n",
        "# Plot loss\n",
        "plt.plot(losses, label=\"Training loss\")\n",
        "plt.xlabel(\"Step\")\n",
        "plt.ylabel(\"Loss\")\n",
        "plt.title(\"4-Qubit Noisy VQC Loss\")\n",
        "plt.grid(True)\n",
        "plt.legend()\n",
        "plt.show()"
      ],
      "metadata": {
        "colab": {
          "base_uri": "https://localhost:8080/",
          "height": 1000
        },
        "id": "eheqMbFDo6vD",
        "outputId": "ab759d09-b8ca-48a1-ff2d-c65e5c340ddb"
      },
      "execution_count": 51,
      "outputs": [
        {
          "output_type": "stream",
          "name": "stdout",
          "text": [
            " Training 4-qubit noisy VQC...\n",
            "[00] Loss: 0.6876\n",
            "[01] Loss: 0.6795\n",
            "[02] Loss: 0.6694\n",
            "[03] Loss: 0.6597\n",
            "[04] Loss: 0.6494\n",
            "[05] Loss: 0.6377\n",
            "[06] Loss: 0.6270\n",
            "[07] Loss: 0.6191\n",
            "[08] Loss: 0.6123\n",
            "[09] Loss: 0.6071\n",
            "[10] Loss: 0.6039\n",
            "[11] Loss: 0.6018\n",
            "[12] Loss: 0.5996\n",
            "[13] Loss: 0.5981\n",
            "[14] Loss: 0.5984\n",
            "[15] Loss: 0.6003\n",
            "[16] Loss: 0.6022\n",
            "[17] Loss: 0.6029\n",
            "[18] Loss: 0.6019\n",
            "[19] Loss: 0.5998\n",
            "[20] Loss: 0.5973\n",
            "[21] Loss: 0.5953\n",
            "[22] Loss: 0.5938\n",
            "[23] Loss: 0.5930\n",
            "[24] Loss: 0.5926\n",
            "[25] Loss: 0.5923\n",
            "[26] Loss: 0.5922\n",
            "[27] Loss: 0.5920\n",
            "[28] Loss: 0.5918\n",
            "[29] Loss: 0.5918\n",
            "\n",
            " Test Accuracy (4Q Noisy): 63.33%\n"
          ]
        },
        {
          "output_type": "display_data",
          "data": {
            "text/plain": [
              "<Figure size 640x480 with 1 Axes>"
            ],
            "image/png": "[encoded data removed]"
          },
          "metadata": {}
        }
      ]
    },
    {
      "cell_type": "code",
      "source": [],
      "metadata": {
        "id": "NSn6Qjzu8BD6"
      },
      "execution_count": null,
      "outputs": []
    }
  ]
}